{
 "cells": [
  {
   "cell_type": "markdown",
   "metadata": {},
   "source": [
    "# Film Success in China - Data Acquisition and EDA\n",
    "Metis Project 2  \n",
    "(File 1 of 2)  \n",
    "October 12, 2020  \n",
    "Amanda Cheney  \n",
    "\n",
    "\n",
    "**Objective**  \n",
    "Build a regression model to explain the success of films in the Chinese market. \n",
    "\n",
    "**Sources**  \n",
    "Chinese box office data on over 1,100 films released in China in the years 2016-2019 scraped from [Box Office Mojo](https://www.boxofficemojo.com/weekend/by-year/2019/?area=CN) and supplemented by the [IMDb movies extensive](https://www.kaggle.com/stefanoleone992/imdb-extensive-dataset?select=IMDb+movies.csv) dataset on Kaggle."
   ]
  },
  {
   "cell_type": "code",
   "execution_count": 1,
   "metadata": {},
   "outputs": [],
   "source": [
    "from bs4 import BeautifulSoup\n",
    "import requests\n",
    "import pickle\n",
    "import numpy as np\n",
    "import re\n",
    "import pandas as pd\n",
    "\n",
    "import matplotlib.pyplot as plt\n",
    "import seaborn as sns\n",
    "%config InlineBackend.figure_formats = ['svg']\n",
    "%matplotlib inline\n",
    "\n",
    "import statsmodels.api as sm\n",
    "from sklearn.linear_model import LinearRegression, Lasso, LassoCV, Ridge, RidgeCV\n",
    "from sklearn.model_selection import train_test_split, KFold\n",
    "from sklearn.preprocessing import StandardScaler, PolynomialFeatures\n",
    "from sklearn.metrics import r2_score\n",
    "\n",
    "import scipy.stats as stats\n",
    "\n",
    "import statsmodels.api as sm\n",
    "import statsmodels.formula.api as smf"
   ]
  },
  {
   "cell_type": "markdown",
   "metadata": {},
   "source": [
    "## Part 1: Obtain Data"
   ]
  },
  {
   "cell_type": "markdown",
   "metadata": {},
   "source": [
    "Create several functions `weekend_getter`, `link_getter`, `dict_maker`, `imdb_code_getter` and `imdb_code_refiner` to scrape the data from Box Office Mojo."
   ]
  },
  {
   "cell_type": "code",
   "execution_count": 2,
   "metadata": {},
   "outputs": [],
   "source": [
    "def weekend_getter(years):\n",
    "    \"\"\"\n",
    "    Scrapes the BoxOfficeMojo website for Chinese box office weekends of a given \n",
    "    year and returns a list of links for each weekend of that year.\n",
    "    Input: List of years\n",
    "    Output: List of urls for each weekend of the input years \n",
    "    \"\"\"\n",
    "    list_of_weekend_links = []\n",
    "    for year in years:\n",
    "        source_code = requests.get(f'https://www.boxofficemojo.com/weekend/by-year/{year}/?area=CN')\n",
    "        soup = BeautifulSoup(source_code.text, 'html5lib')        \n",
    "        list_of_weekends = soup.findAll('td', {'class': 'a-text-right mojo-field-type-date_interval'})\n",
    "        for weekend in list_of_weekends:\n",
    "            link = weekend.find(\"a\")[\"href\"]\n",
    "            list_of_weekend_links.append(link)\n",
    "        url = 'https://www.boxofficemojo.com/'\n",
    "        weekend_urls = [url + link for link in list_of_weekend_links]\n",
    "    return weekend_urls"
   ]
  },
  {
   "cell_type": "code",
   "execution_count": 6,
   "metadata": {},
   "outputs": [],
   "source": [
    "def link_getter(weekend_urls):\n",
    "    \"\"\"\n",
    "    Scrapes individual Chinese box office weekend Box Office Mojo webpages and \n",
    "    returns a list of movies for all the input weekends.\n",
    "    Input: List of urls for box office weekends \n",
    "    Output: List of movies from all the input weekends \n",
    "    \"\"\"\n",
    "    list_of_movie_links = []\n",
    "    for url in weekend_urls:\n",
    "        source_code = requests.get(url)\n",
    "        soup = BeautifulSoup(source_code.text, 'html5lib')\n",
    "        list_of_movies = soup.findAll('td', {'class': 'a-text-left mojo-field-type-release mojo-cell-wide'})\n",
    "        for movie in list_of_movies:\n",
    "            link = movie.find(\"a\")[\"href\"]\n",
    "            list_of_movie_links.append(link)\n",
    "        url = 'https://www.boxofficemojo.com/'\n",
    "        movie_urls = [url + link for link in list_of_movie_links] \n",
    "    return movie_urls"
   ]
  },
  {
   "cell_type": "code",
   "execution_count": 11,
   "metadata": {},
   "outputs": [],
   "source": [
    "def dict_maker(movie_urls):\n",
    "    \"\"\"\n",
    "    Scrapes the Box Office Mojo webpage of a given movie and extracts information \n",
    "    about that movie's revenue, runtime, genres, release period and release date.\n",
    "    Input: A list of movie urls.\n",
    "    Output: A tuple of five dictionaries - revenue at index 0, runtime [1], \n",
    "    genres [2], release period [3] and release date [5].\n",
    "    \n",
    "    \"\"\"\n",
    "    revenue_dict = {}\n",
    "    runtime_dict={}\n",
    "    genres_dict = {}\n",
    "    release_period_dict = {}\n",
    "    release_date_dict = {}\n",
    "    for movie in movie_urls:\n",
    "        source_code = requests.get(movie)\n",
    "        soup = BeautifulSoup(source_code.text, 'html5lib')\n",
    "        title = soup.find('h1').text\n",
    "        list_grosses = soup.find(class_='a-section a-spacing-none mojo-performance-summary-table').find_all(class_='money')\n",
    "        \n",
    "        # revenue dict \n",
    "        list_of_rev = [item.text for item in list_grosses]\n",
    "        if len(list_of_rev)< 3:\n",
    "            list_of_rev.insert(1,np.NaN) \n",
    "        revenue_dict[title]=list_of_rev\n",
    "        \n",
    "        # running time dict \n",
    "        rt_string = soup.find(text=re.compile('Running Time'))\n",
    "        if rt_string == None:\n",
    "            runtime_dict[title]=np.NaN\n",
    "        else:\n",
    "            rt = rt_string.findNext().text\n",
    "            rt = rt.split()\n",
    "            if len(rt)==2:\n",
    "                minutes = int(rt[0])*60\n",
    "            else:\n",
    "                minutes = int(rt[0])*60 + int(rt[2])\n",
    "            runtime_dict[title]=minutes\n",
    "\n",
    "        #genre dict\n",
    "        genre_finder = soup.find(text=re.compile('Genres'))\n",
    "        if genre_finder == None:\n",
    "            genres_dict[title]=np.NaN\n",
    "        else:\n",
    "            genre = genre_finder.findNext().text\n",
    "            genre = genre.replace('\\n', ', ').replace('    ,        ', '')\n",
    "            genres_dict[title]=genre\n",
    "\n",
    "\n",
    "        #release period dict \n",
    "        release_finder = soup.find(text=re.compile('In Release'))\n",
    "        if release_finder == None:\n",
    "            release_period_dict[title]=np.NaN\n",
    "        else:\n",
    "            release_period = release_finder.findNext().text\n",
    "            release_period = release_period.split('day')[0]\n",
    "            release_period_dict[title]=release_period\n",
    "\n",
    "        # release date dict \n",
    "        date_finder = soup.find(text=re.compile('Release Date'))\n",
    "        if date_finder == None:\n",
    "            release_date_dict[title]=np.NaN\n",
    "        else:\n",
    "            release_date = date_finder.findNext().text\n",
    "            release_date_dict[title]=release_date\n",
    "    return revenue_dict, runtime_dict, genres_dict, release_period_dict, release_date_dict"
   ]
  },
  {
   "cell_type": "code",
   "execution_count": 18,
   "metadata": {},
   "outputs": [],
   "source": [
    "def imdb_code_getter(movie_urls):\n",
    "    \"\"\"\n",
    "    Scrapes the Box Office Mojo website of a given movie and extracts information \n",
    "    about that movie's imdb code and title.\n",
    "    Input: A list of movie urls.\n",
    "    Output: A dictionary of movie titles and their corresponding imdb code.\n",
    "    \"\"\"\n",
    "    imdb_code_dict= {}\n",
    "    for movie in movie_urls:\n",
    "        source_code = requests.get(movie)\n",
    "        soup = BeautifulSoup(source_code.text, 'html5lib')\n",
    "        title = soup.find('h1').text\n",
    "        list_of_title_links = soup.find('a', class_='a-link-normal mojo-title-link refiner-display-highlight') # this is only searching tags \n",
    "        imdb_code_dict[title]=list_of_title_links.get('href')  \n",
    "    return imdb_code_dict"
   ]
  },
  {
   "cell_type": "code",
   "execution_count": 22,
   "metadata": {},
   "outputs": [],
   "source": [
    "def imdb_code_refiner(imdb_code_dict):\n",
    "    \"\"\"\n",
    "    Takes a dictionary of movies and imdb codes containing excess info and \n",
    "    returns a list of just imdb movie codes.\n",
    "    Input: A dictionary of movie names and imdb codes.\n",
    "    Output: A list of imdb codes.\n",
    "    \"\"\"\n",
    "    imdb_tag_list = []\n",
    "    imdb_code_list = []\n",
    "    for key,value in imdb_code_dict.items():\n",
    "        imdb_tag_list.append(value)\n",
    "    for code in imdb_tag_list:\n",
    "        code = code.split('/')\n",
    "        imdb_code_list.append(code[2])\n",
    "    return imdb_code_list"
   ]
  },
  {
   "cell_type": "markdown",
   "metadata": {},
   "source": [
    "Scrape the data by calling the functions above and pickle their output."
   ]
  },
  {
   "cell_type": "code",
   "execution_count": 3,
   "metadata": {},
   "outputs": [],
   "source": [
    "years = ['2019', '2018', '2017', '2016']\n",
    "years_of_weekend_urls = weekend_getter(years)"
   ]
  },
  {
   "cell_type": "code",
   "execution_count": 5,
   "metadata": {},
   "outputs": [],
   "source": [
    "with open('years_of_weekend_urls.pickle', 'wb') as to_write:\n",
    "    pickle.dump(years_of_weekend_urls, to_write)"
   ]
  },
  {
   "cell_type": "code",
   "execution_count": 8,
   "metadata": {},
   "outputs": [],
   "source": [
    "movie_urls = link_getter(years_of_weekend_urls) "
   ]
  },
  {
   "cell_type": "code",
   "execution_count": 10,
   "metadata": {},
   "outputs": [],
   "source": [
    "with open('movie_urls.pickle', 'wb') as to_write:\n",
    "    pickle.dump(movie_urls, to_write)"
   ]
  },
  {
   "cell_type": "code",
   "execution_count": 13,
   "metadata": {},
   "outputs": [],
   "source": [
    "list_of_dicts=dict_maker(movie_urls) "
   ]
  },
  {
   "cell_type": "code",
   "execution_count": 14,
   "metadata": {},
   "outputs": [],
   "source": [
    "with open('list_of_dicts.pickle', 'wb') as to_write:\n",
    "    pickle.dump(list_of_dicts, to_write)"
   ]
  },
  {
   "cell_type": "code",
   "execution_count": 19,
   "metadata": {},
   "outputs": [],
   "source": [
    "imdb_code_dict=imdb_code_getter(movie_urls) "
   ]
  },
  {
   "cell_type": "code",
   "execution_count": 21,
   "metadata": {},
   "outputs": [],
   "source": [
    "with open('imdb_code_dict.pickle', 'wb') as to_write:\n",
    "    pickle.dump(imdb_code_dict, to_write)"
   ]
  },
  {
   "cell_type": "code",
   "execution_count": 23,
   "metadata": {},
   "outputs": [],
   "source": [
    "imdb_code_list=imdb_code_refiner(imdb_code_dict) "
   ]
  },
  {
   "cell_type": "code",
   "execution_count": 25,
   "metadata": {},
   "outputs": [],
   "source": [
    "with open('imdb_code_list.pickle', 'wb') as to_write:\n",
    "    pickle.dump(imdb_code_list, to_write)"
   ]
  },
  {
   "cell_type": "markdown",
   "metadata": {},
   "source": [
    "## Part 2: Create the Dataset \n",
    "Combine the scraped data into a Pandas DataFrame."
   ]
  },
  {
   "cell_type": "code",
   "execution_count": 3,
   "metadata": {},
   "outputs": [],
   "source": [
    "with open('list_of_dicts.pickle', 'rb') as read_file:\n",
    "    list_of_dicts = pickle.load(read_file)"
   ]
  },
  {
   "cell_type": "code",
   "execution_count": 4,
   "metadata": {},
   "outputs": [],
   "source": [
    "with open('imdb_code_list.pickle', 'rb') as read_file:\n",
    "    imdb_code_list = pickle.load(read_file)"
   ]
  },
  {
   "cell_type": "code",
   "execution_count": 5,
   "metadata": {},
   "outputs": [],
   "source": [
    "revenue_dict = list_of_dicts[0]\n",
    "runtime_dict= list_of_dicts[1]\n",
    "genres_dict = list_of_dicts[2]\n",
    "release_period_dict = list_of_dicts[3]\n",
    "release_date_dict = list_of_dicts[4]"
   ]
  },
  {
   "cell_type": "code",
   "execution_count": 22,
   "metadata": {},
   "outputs": [
    {
     "name": "stdout",
     "output_type": "stream",
     "text": [
      "Initial size: (1680, 9)\n"
     ]
    }
   ],
   "source": [
    "initial_df = pd.DataFrame.from_dict(revenue_dict, orient='index')\n",
    "initial_df.reset_index(inplace=True)\n",
    "initial_df.columns = ['title','PRC_rev', 'USA_rev', 'intl_rev']\n",
    "initial_df['runtime'] = runtime_dict.values()\n",
    "initial_df['genres'] = genres_dict.values()\n",
    "initial_df['release_period'] = release_period_dict.values()\n",
    "initial_df['release_date'] = release_date_dict.values()\n",
    "initial_df['imdb_title_id'] = imdb_code_list\n",
    "print(\"Initial size:\", initial_df.shape)"
   ]
  },
  {
   "cell_type": "code",
   "execution_count": 23,
   "metadata": {},
   "outputs": [
    {
     "name": "stdout",
     "output_type": "stream",
     "text": [
      "<class 'pandas.core.frame.DataFrame'>\n",
      "RangeIndex: 1680 entries, 0 to 1679\n",
      "Data columns (total 9 columns):\n",
      " #   Column          Non-Null Count  Dtype  \n",
      "---  ------          --------------  -----  \n",
      " 0   title           1680 non-null   object \n",
      " 1   PRC_rev         1680 non-null   object \n",
      " 2   USA_rev         397 non-null    object \n",
      " 3   intl_rev        1680 non-null   object \n",
      " 4   runtime         1117 non-null   float64\n",
      " 5   genres          1179 non-null   object \n",
      " 6   release_period  1666 non-null   object \n",
      " 7   release_date    1680 non-null   object \n",
      " 8   imdb_title_id   1680 non-null   object \n",
      "dtypes: float64(1), object(8)\n",
      "memory usage: 118.2+ KB\n"
     ]
    }
   ],
   "source": [
    "initial_df.info()"
   ]
  },
  {
   "cell_type": "markdown",
   "metadata": {},
   "source": [
    "Do some initial cleaning and feature engineering."
   ]
  },
  {
   "cell_type": "code",
   "execution_count": 24,
   "metadata": {},
   "outputs": [],
   "source": [
    "def format_money(df, col_name, *args):\n",
    "    list_col_names = [col_name, *args]\n",
    "    for col in list_col_names:\n",
    "        df[col] = df[col].str.replace(',','').str.replace('$','').astype(float)"
   ]
  },
  {
   "cell_type": "code",
   "execution_count": 25,
   "metadata": {},
   "outputs": [],
   "source": [
    "format_money(initial_df, 'PRC_rev','USA_rev', 'intl_rev')"
   ]
  },
  {
   "cell_type": "code",
   "execution_count": 26,
   "metadata": {},
   "outputs": [
    {
     "name": "stdout",
     "output_type": "stream",
     "text": [
      "(1179, 11)\n",
      "Note, only 6 films have runtime over 1000, majority of loss is due to nans\n",
      " (1086, 11)\n"
     ]
    }
   ],
   "source": [
    "initial_df['release_period'] = initial_df['release_period'].str.replace(',','').astype(float)\n",
    "initial_df['release_date'] = pd.to_datetime(initial_df['release_date'])\n",
    "initial_df['release_month'] = initial_df['release_date'].dt.month\n",
    "initial_df['year'] = initial_df['release_date'].dt.year\n",
    "initial_df['genres'] = initial_df['genres'].str.strip().str.replace(' ', '')\n",
    "initial_df = initial_df[initial_df['genres'].notna()]\n",
    "print(initial_df.shape)\n",
    "initial_df = initial_df[initial_df['runtime'] < 1000] #drop movies with runtimes > 1000 minutes \n",
    "print(\"Note, only 6 films have runtime over 1000, majority of loss is due to nans\\n\", initial_df.shape)\n",
    "initial_df['release_period'].fillna((1), inplace=True) #films that do not have release period info are often released\n",
    "# for only one day for award purposes or related to potentially politically sensitive topics, don't want to lose these\n",
    "initial_df['USA_rev'].fillna((0), inplace=True) # the majority of Chinese films are not released outside of China, so na's here are true zeros. "
   ]
  },
  {
   "cell_type": "markdown",
   "metadata": {},
   "source": [
    "Create a variable to represent the percent of a film's international revenue comes from China and another to determine if film was only released in China and had no international distribution."
   ]
  },
  {
   "cell_type": "code",
   "execution_count": 27,
   "metadata": {},
   "outputs": [],
   "source": [
    "initial_df['percent_rev_from_prc'] = initial_df['PRC_rev']/initial_df['intl_rev']\n",
    "initial_df['PRC_only'] = initial_df['PRC_rev'] // initial_df['intl_rev'] "
   ]
  },
  {
   "cell_type": "code",
   "execution_count": 28,
   "metadata": {},
   "outputs": [
    {
     "name": "stdout",
     "output_type": "stream",
     "text": [
      "Updated shape: (1086, 13)\n"
     ]
    },
    {
     "data": {
      "text/html": [
       "<div>\n",
       "<style scoped>\n",
       "    .dataframe tbody tr th:only-of-type {\n",
       "        vertical-align: middle;\n",
       "    }\n",
       "\n",
       "    .dataframe tbody tr th {\n",
       "        vertical-align: top;\n",
       "    }\n",
       "\n",
       "    .dataframe thead th {\n",
       "        text-align: right;\n",
       "    }\n",
       "</style>\n",
       "<table border=\"1\" class=\"dataframe\">\n",
       "  <thead>\n",
       "    <tr style=\"text-align: right;\">\n",
       "      <th></th>\n",
       "      <th>title</th>\n",
       "      <th>PRC_rev</th>\n",
       "      <th>USA_rev</th>\n",
       "      <th>intl_rev</th>\n",
       "      <th>runtime</th>\n",
       "      <th>genres</th>\n",
       "      <th>release_period</th>\n",
       "      <th>release_date</th>\n",
       "      <th>imdb_title_id</th>\n",
       "      <th>release_month</th>\n",
       "      <th>year</th>\n",
       "      <th>percent_rev_from_prc</th>\n",
       "      <th>PRC_only</th>\n",
       "    </tr>\n",
       "  </thead>\n",
       "  <tbody>\n",
       "    <tr>\n",
       "      <th>0</th>\n",
       "      <td>Ip Man 4: The Finale</td>\n",
       "      <td>165290606.0</td>\n",
       "      <td>3956031.0</td>\n",
       "      <td>176345966.0</td>\n",
       "      <td>107.0</td>\n",
       "      <td>Action,Biography,Drama,History</td>\n",
       "      <td>295.0</td>\n",
       "      <td>2019-12-20</td>\n",
       "      <td>tt2076298</td>\n",
       "      <td>12</td>\n",
       "      <td>2019</td>\n",
       "      <td>0.937309</td>\n",
       "      <td>0.0</td>\n",
       "    </tr>\n",
       "    <tr>\n",
       "      <th>1</th>\n",
       "      <td>Sheep Without a Shepherd</td>\n",
       "      <td>191600000.0</td>\n",
       "      <td>0.0</td>\n",
       "      <td>191602146.0</td>\n",
       "      <td>112.0</td>\n",
       "      <td>Crime,Drama,Thriller</td>\n",
       "      <td>293.0</td>\n",
       "      <td>2019-12-13</td>\n",
       "      <td>tt11210032</td>\n",
       "      <td>12</td>\n",
       "      <td>2019</td>\n",
       "      <td>0.999989</td>\n",
       "      <td>0.0</td>\n",
       "    </tr>\n",
       "    <tr>\n",
       "      <th>2</th>\n",
       "      <td>S.W.A.T</td>\n",
       "      <td>8230634.0</td>\n",
       "      <td>0.0</td>\n",
       "      <td>8230634.0</td>\n",
       "      <td>109.0</td>\n",
       "      <td>Action</td>\n",
       "      <td>288.0</td>\n",
       "      <td>2019-12-27</td>\n",
       "      <td>tt9243442</td>\n",
       "      <td>12</td>\n",
       "      <td>2019</td>\n",
       "      <td>1.000000</td>\n",
       "      <td>1.0</td>\n",
       "    </tr>\n",
       "    <tr>\n",
       "      <th>3</th>\n",
       "      <td>Almost a Comedy</td>\n",
       "      <td>26990962.0</td>\n",
       "      <td>0.0</td>\n",
       "      <td>26990962.0</td>\n",
       "      <td>111.0</td>\n",
       "      <td>Drama</td>\n",
       "      <td>295.0</td>\n",
       "      <td>2019-12-20</td>\n",
       "      <td>tt11273332</td>\n",
       "      <td>12</td>\n",
       "      <td>2019</td>\n",
       "      <td>1.000000</td>\n",
       "      <td>1.0</td>\n",
       "    </tr>\n",
       "    <tr>\n",
       "      <th>4</th>\n",
       "      <td>Only Cloud Knows</td>\n",
       "      <td>23266174.0</td>\n",
       "      <td>0.0</td>\n",
       "      <td>23410836.0</td>\n",
       "      <td>132.0</td>\n",
       "      <td>Drama,Romance</td>\n",
       "      <td>295.0</td>\n",
       "      <td>2019-12-20</td>\n",
       "      <td>tt10564446</td>\n",
       "      <td>12</td>\n",
       "      <td>2019</td>\n",
       "      <td>0.993821</td>\n",
       "      <td>0.0</td>\n",
       "    </tr>\n",
       "  </tbody>\n",
       "</table>\n",
       "</div>"
      ],
      "text/plain": [
       "                      title      PRC_rev    USA_rev     intl_rev  runtime  \\\n",
       "0      Ip Man 4: The Finale  165290606.0  3956031.0  176345966.0    107.0   \n",
       "1  Sheep Without a Shepherd  191600000.0        0.0  191602146.0    112.0   \n",
       "2                   S.W.A.T    8230634.0        0.0    8230634.0    109.0   \n",
       "3           Almost a Comedy   26990962.0        0.0   26990962.0    111.0   \n",
       "4          Only Cloud Knows   23266174.0        0.0   23410836.0    132.0   \n",
       "\n",
       "                           genres  release_period release_date imdb_title_id  \\\n",
       "0  Action,Biography,Drama,History           295.0   2019-12-20     tt2076298   \n",
       "1            Crime,Drama,Thriller           293.0   2019-12-13    tt11210032   \n",
       "2                          Action           288.0   2019-12-27     tt9243442   \n",
       "3                           Drama           295.0   2019-12-20    tt11273332   \n",
       "4                   Drama,Romance           295.0   2019-12-20    tt10564446   \n",
       "\n",
       "   release_month  year  percent_rev_from_prc  PRC_only  \n",
       "0             12  2019              0.937309       0.0  \n",
       "1             12  2019              0.999989       0.0  \n",
       "2             12  2019              1.000000       1.0  \n",
       "3             12  2019              1.000000       1.0  \n",
       "4             12  2019              0.993821       0.0  "
      ]
     },
     "execution_count": 28,
     "metadata": {},
     "output_type": "execute_result"
    }
   ],
   "source": [
    "print(\"Updated shape:\",initial_df.shape)\n",
    "initial_df.head()"
   ]
  },
  {
   "cell_type": "code",
   "execution_count": 29,
   "metadata": {},
   "outputs": [
    {
     "name": "stdout",
     "output_type": "stream",
     "text": [
      "452 films only released in China\n"
     ]
    }
   ],
   "source": [
    "only_china_mask = initial_df['PRC_only']==1\n",
    "initial_df[only_china_mask].shape\n",
    "print(\"452 films only released in China\")"
   ]
  },
  {
   "cell_type": "markdown",
   "metadata": {},
   "source": [
    "Create dummy variables of genres."
   ]
  },
  {
   "cell_type": "code",
   "execution_count": 30,
   "metadata": {},
   "outputs": [],
   "source": [
    "genresDF = initial_df['genres'].str.get_dummies(sep = \",\")"
   ]
  },
  {
   "cell_type": "code",
   "execution_count": 31,
   "metadata": {},
   "outputs": [
    {
     "name": "stdout",
     "output_type": "stream",
     "text": [
      "Genre counts:\n"
     ]
    },
    {
     "data": {
      "text/plain": [
       "Drama          460\n",
       "Action         336\n",
       "Comedy         320\n",
       "Adventure      297\n",
       "Thriller       214\n",
       "Fantasy        205\n",
       "Family         197\n",
       "Animation      175\n",
       "Romance        167\n",
       "Crime          142\n",
       "Sci-Fi         127\n",
       "Mystery         97\n",
       "Horror          63\n",
       "History         49\n",
       "War             44\n",
       "Biography       43\n",
       "Documentary     30\n",
       "Sport           27\n",
       "Music           22\n",
       "Musical         18\n",
       "Short            1\n",
       "Western          1\n",
       "dtype: int64"
      ]
     },
     "execution_count": 31,
     "metadata": {},
     "output_type": "execute_result"
    }
   ],
   "source": [
    "sorting_genres=genresDF.sum()\n",
    "print(\"Genre counts:\")\n",
    "sorting_genres.sort_values(ascending=False)"
   ]
  },
  {
   "cell_type": "markdown",
   "metadata": {},
   "source": [
    "Concat `genresDF` with `initial_df` to incorporate genre dummy variables."
   ]
  },
  {
   "cell_type": "code",
   "execution_count": 32,
   "metadata": {},
   "outputs": [
    {
     "name": "stdout",
     "output_type": "stream",
     "text": [
      "<class 'pandas.core.frame.DataFrame'>\n",
      "RangeIndex: 1086 entries, 0 to 1085\n",
      "Data columns (total 35 columns):\n",
      " #   Column                Non-Null Count  Dtype         \n",
      "---  ------                --------------  -----         \n",
      " 0   title                 1086 non-null   object        \n",
      " 1   PRC_rev               1086 non-null   float64       \n",
      " 2   USA_rev               1086 non-null   float64       \n",
      " 3   intl_rev              1086 non-null   float64       \n",
      " 4   runtime               1086 non-null   float64       \n",
      " 5   genres                1086 non-null   object        \n",
      " 6   release_period        1086 non-null   float64       \n",
      " 7   release_date          1086 non-null   datetime64[ns]\n",
      " 8   imdb_title_id         1086 non-null   object        \n",
      " 9   release_month         1086 non-null   int64         \n",
      " 10  year                  1086 non-null   int64         \n",
      " 11  percent_rev_from_prc  1086 non-null   float64       \n",
      " 12  PRC_only              1086 non-null   float64       \n",
      " 13  Action                1086 non-null   int64         \n",
      " 14  Adventure             1086 non-null   int64         \n",
      " 15  Animation             1086 non-null   int64         \n",
      " 16  Biography             1086 non-null   int64         \n",
      " 17  Comedy                1086 non-null   int64         \n",
      " 18  Crime                 1086 non-null   int64         \n",
      " 19  Documentary           1086 non-null   int64         \n",
      " 20  Drama                 1086 non-null   int64         \n",
      " 21  Family                1086 non-null   int64         \n",
      " 22  Fantasy               1086 non-null   int64         \n",
      " 23  History               1086 non-null   int64         \n",
      " 24  Horror                1086 non-null   int64         \n",
      " 25  Music                 1086 non-null   int64         \n",
      " 26  Musical               1086 non-null   int64         \n",
      " 27  Mystery               1086 non-null   int64         \n",
      " 28  Romance               1086 non-null   int64         \n",
      " 29  Sci-Fi                1086 non-null   int64         \n",
      " 30  Short                 1086 non-null   int64         \n",
      " 31  Sport                 1086 non-null   int64         \n",
      " 32  Thriller              1086 non-null   int64         \n",
      " 33  War                   1086 non-null   int64         \n",
      " 34  Western               1086 non-null   int64         \n",
      "dtypes: datetime64[ns](1), float64(7), int64(24), object(3)\n",
      "memory usage: 297.1+ KB\n"
     ]
    }
   ],
   "source": [
    "df = pd.concat((initial_df,genresDF),axis=1)\n",
    "df.reset_index(drop=True, inplace=True)\n",
    "df.info()"
   ]
  },
  {
   "cell_type": "code",
   "execution_count": 33,
   "metadata": {},
   "outputs": [],
   "source": [
    "with open('df.pickle', 'wb') as to_write:\n",
    "    pickle.dump(df, to_write)"
   ]
  },
  {
   "cell_type": "markdown",
   "metadata": {},
   "source": [
    "Now merge `initial_df` with Kaggle IMDb dataset to add additional features unavailable on Box Office Mojo.  \n",
    "The merge is done on the imdb title codes scraped earlier.  \n",
    "While the IMDb dataset had many seemingly valuable features, data is unfortunately missing for a large number of rows and missing data is biased to overrepresent US films with good representation on IMDb and underrepresent Chinese (and other smaller/non-blockbuster international films).   "
   ]
  },
  {
   "cell_type": "code",
   "execution_count": 34,
   "metadata": {},
   "outputs": [
    {
     "name": "stderr",
     "output_type": "stream",
     "text": [
      "/Users/AmandaCheney/opt/anaconda3/lib/python3.8/site-packages/IPython/core/interactiveshell.py:3145: DtypeWarning: Columns (3) have mixed types.Specify dtype option on import or set low_memory=False.\n",
      "  has_raised = await self.run_ast_nodes(code_ast.body, cell_name,\n"
     ]
    }
   ],
   "source": [
    "imdb_movies = pd.read_csv('imdb_data/IMDb_movies.csv')"
   ]
  },
  {
   "cell_type": "code",
   "execution_count": 35,
   "metadata": {},
   "outputs": [
    {
     "name": "stdout",
     "output_type": "stream",
     "text": [
      "<class 'pandas.core.frame.DataFrame'>\n",
      "Int64Index: 1086 entries, 0 to 1085\n",
      "Data columns (total 56 columns):\n",
      " #   Column                 Non-Null Count  Dtype         \n",
      "---  ------                 --------------  -----         \n",
      " 0   title_x                1086 non-null   object        \n",
      " 1   PRC_rev                1086 non-null   float64       \n",
      " 2   USA_rev                1086 non-null   float64       \n",
      " 3   intl_rev               1086 non-null   float64       \n",
      " 4   runtime                1086 non-null   float64       \n",
      " 5   genres                 1086 non-null   object        \n",
      " 6   release_period         1086 non-null   float64       \n",
      " 7   release_date           1086 non-null   datetime64[ns]\n",
      " 8   imdb_title_id          1086 non-null   object        \n",
      " 9   release_month          1086 non-null   int64         \n",
      " 10  year_x                 1086 non-null   int64         \n",
      " 11  percent_rev_from_prc   1086 non-null   float64       \n",
      " 12  PRC_only               1086 non-null   float64       \n",
      " 13  Action                 1086 non-null   int64         \n",
      " 14  Adventure              1086 non-null   int64         \n",
      " 15  Animation              1086 non-null   int64         \n",
      " 16  Biography              1086 non-null   int64         \n",
      " 17  Comedy                 1086 non-null   int64         \n",
      " 18  Crime                  1086 non-null   int64         \n",
      " 19  Documentary            1086 non-null   int64         \n",
      " 20  Drama                  1086 non-null   int64         \n",
      " 21  Family                 1086 non-null   int64         \n",
      " 22  Fantasy                1086 non-null   int64         \n",
      " 23  History                1086 non-null   int64         \n",
      " 24  Horror                 1086 non-null   int64         \n",
      " 25  Music                  1086 non-null   int64         \n",
      " 26  Musical                1086 non-null   int64         \n",
      " 27  Mystery                1086 non-null   int64         \n",
      " 28  Romance                1086 non-null   int64         \n",
      " 29  Sci-Fi                 1086 non-null   int64         \n",
      " 30  Short                  1086 non-null   int64         \n",
      " 31  Sport                  1086 non-null   int64         \n",
      " 32  Thriller               1086 non-null   int64         \n",
      " 33  War                    1086 non-null   int64         \n",
      " 34  Western                1086 non-null   int64         \n",
      " 35  title_y                732 non-null    object        \n",
      " 36  original_title         732 non-null    object        \n",
      " 37  year_y                 732 non-null    object        \n",
      " 38  date_published         732 non-null    object        \n",
      " 39  genre                  732 non-null    object        \n",
      " 40  duration               732 non-null    float64       \n",
      " 41  country                732 non-null    object        \n",
      " 42  language               728 non-null    object        \n",
      " 43  director               730 non-null    object        \n",
      " 44  writer                 720 non-null    object        \n",
      " 45  production_company     699 non-null    object        \n",
      " 46  actors                 727 non-null    object        \n",
      " 47  description            732 non-null    object        \n",
      " 48  avg_vote               732 non-null    float64       \n",
      " 49  votes                  732 non-null    float64       \n",
      " 50  budget                 391 non-null    object        \n",
      " 51  usa_gross_income       395 non-null    object        \n",
      " 52  worlwide_gross_income  732 non-null    object        \n",
      " 53  metascore              343 non-null    float64       \n",
      " 54  reviews_from_users     699 non-null    float64       \n",
      " 55  reviews_from_critics   713 non-null    float64       \n",
      "dtypes: datetime64[ns](1), float64(13), int64(24), object(18)\n",
      "memory usage: 483.6+ KB\n"
     ]
    }
   ],
   "source": [
    "full_data = df.merge(imdb_movies, how='left', on = \"imdb_title_id\")\n",
    "full_data.info()"
   ]
  },
  {
   "cell_type": "code",
   "execution_count": 36,
   "metadata": {},
   "outputs": [],
   "source": [
    "full_data.columns.str.strip()\n",
    "full_data['country'] = full_data['country'].str.strip().str.replace(' ', '')\n",
    "full_data['language'] = full_data['language'].str.strip().str.replace(' ', '')"
   ]
  },
  {
   "cell_type": "code",
   "execution_count": 37,
   "metadata": {},
   "outputs": [
    {
     "data": {
      "text/plain": [
       "Index(['title_x', 'PRC_rev', 'USA_rev', 'intl_rev', 'runtime', 'genres',\n",
       "       'release_period', 'release_date', 'imdb_title_id', 'release_month',\n",
       "       'year_x', 'percent_rev_from_prc', 'PRC_only', 'Action', 'Adventure',\n",
       "       'Animation', 'Biography', 'Comedy', 'Crime', 'Documentary', 'Drama',\n",
       "       'Family', 'Fantasy', 'History', 'Horror', 'Music', 'Musical', 'Mystery',\n",
       "       'Romance', 'Sci-Fi', 'Short', 'Sport', 'Thriller', 'War', 'Western',\n",
       "       'title_y', 'original_title', 'year_y', 'date_published', 'genre',\n",
       "       'duration', 'country', 'language', 'director', 'writer',\n",
       "       'production_company', 'actors', 'description', 'avg_vote', 'votes',\n",
       "       'budget', 'usa_gross_income', 'worlwide_gross_income', 'metascore',\n",
       "       'reviews_from_users', 'reviews_from_critics'],\n",
       "      dtype='object')"
      ]
     },
     "execution_count": 37,
     "metadata": {},
     "output_type": "execute_result"
    }
   ],
   "source": [
    "full_data.columns"
   ]
  },
  {
   "cell_type": "code",
   "execution_count": 38,
   "metadata": {},
   "outputs": [],
   "source": [
    "def format_money(df, col_name, *args):\n",
    "    list_col_names = [col_name, *args]\n",
    "    for col in list_col_names:\n",
    "        df[col] = df[col].str.replace(',','').str.replace('$','').astype(float)\n",
    "format_money(full_data, 'worlwide_gross_income')"
   ]
  },
  {
   "cell_type": "code",
   "execution_count": 39,
   "metadata": {},
   "outputs": [],
   "source": [
    "full_data = full_data[['title_x', 'imdb_title_id', 'country', 'language','PRC_rev', 'USA_rev', 'intl_rev',\n",
    "        'percent_rev_from_prc', 'PRC_only', 'runtime', 'release_period', 'release_date', 'release_month', \n",
    "        'year_x', 'genres', 'Action', 'Adventure', 'Animation', 'Biography', 'Comedy', 'Crime', 'Documentary',\n",
    "       'Drama', 'Family', 'Fantasy', 'History', 'Horror', 'Music', 'Musical',\n",
    "       'Mystery', 'Romance', 'Sci-Fi', 'Short', 'Sport', 'Thriller', 'War',\n",
    "       'Western', 'avg_vote', 'votes',\n",
    "       'budget', 'worlwide_gross_income', 'metascore',\n",
    "       'reviews_from_users', 'reviews_from_critics']]"
   ]
  },
  {
   "cell_type": "code",
   "execution_count": 40,
   "metadata": {},
   "outputs": [
    {
     "data": {
      "text/html": [
       "<div>\n",
       "<style scoped>\n",
       "    .dataframe tbody tr th:only-of-type {\n",
       "        vertical-align: middle;\n",
       "    }\n",
       "\n",
       "    .dataframe tbody tr th {\n",
       "        vertical-align: top;\n",
       "    }\n",
       "\n",
       "    .dataframe thead th {\n",
       "        text-align: right;\n",
       "    }\n",
       "</style>\n",
       "<table border=\"1\" class=\"dataframe\">\n",
       "  <thead>\n",
       "    <tr style=\"text-align: right;\">\n",
       "      <th></th>\n",
       "      <th>title_x</th>\n",
       "      <th>imdb_title_id</th>\n",
       "      <th>country</th>\n",
       "      <th>language</th>\n",
       "      <th>PRC_rev</th>\n",
       "      <th>USA_rev</th>\n",
       "      <th>intl_rev</th>\n",
       "      <th>percent_rev_from_prc</th>\n",
       "      <th>PRC_only</th>\n",
       "      <th>runtime</th>\n",
       "      <th>...</th>\n",
       "      <th>Thriller</th>\n",
       "      <th>War</th>\n",
       "      <th>Western</th>\n",
       "      <th>avg_vote</th>\n",
       "      <th>votes</th>\n",
       "      <th>budget</th>\n",
       "      <th>worlwide_gross_income</th>\n",
       "      <th>metascore</th>\n",
       "      <th>reviews_from_users</th>\n",
       "      <th>reviews_from_critics</th>\n",
       "    </tr>\n",
       "  </thead>\n",
       "  <tbody>\n",
       "    <tr>\n",
       "      <th>0</th>\n",
       "      <td>Ip Man 4: The Finale</td>\n",
       "      <td>tt2076298</td>\n",
       "      <td>HongKong,China</td>\n",
       "      <td>Cantonese,English,Mandarin</td>\n",
       "      <td>165290606.0</td>\n",
       "      <td>3956031.0</td>\n",
       "      <td>176345966.0</td>\n",
       "      <td>0.937309</td>\n",
       "      <td>0.0</td>\n",
       "      <td>107.0</td>\n",
       "      <td>...</td>\n",
       "      <td>0</td>\n",
       "      <td>0</td>\n",
       "      <td>0</td>\n",
       "      <td>7.1</td>\n",
       "      <td>20858.0</td>\n",
       "      <td>$ 52000000</td>\n",
       "      <td>176345966.0</td>\n",
       "      <td>62.0</td>\n",
       "      <td>259.0</td>\n",
       "      <td>63.0</td>\n",
       "    </tr>\n",
       "    <tr>\n",
       "      <th>1</th>\n",
       "      <td>Sheep Without a Shepherd</td>\n",
       "      <td>tt11210032</td>\n",
       "      <td>China</td>\n",
       "      <td>Mandarin,Thai</td>\n",
       "      <td>191600000.0</td>\n",
       "      <td>0.0</td>\n",
       "      <td>191602146.0</td>\n",
       "      <td>0.999989</td>\n",
       "      <td>0.0</td>\n",
       "      <td>112.0</td>\n",
       "      <td>...</td>\n",
       "      <td>1</td>\n",
       "      <td>0</td>\n",
       "      <td>0</td>\n",
       "      <td>6.8</td>\n",
       "      <td>630.0</td>\n",
       "      <td>NaN</td>\n",
       "      <td>191602146.0</td>\n",
       "      <td>NaN</td>\n",
       "      <td>12.0</td>\n",
       "      <td>16.0</td>\n",
       "    </tr>\n",
       "    <tr>\n",
       "      <th>2</th>\n",
       "      <td>S.W.A.T</td>\n",
       "      <td>tt9243442</td>\n",
       "      <td>China</td>\n",
       "      <td>Mandarin</td>\n",
       "      <td>8230634.0</td>\n",
       "      <td>0.0</td>\n",
       "      <td>8230634.0</td>\n",
       "      <td>1.000000</td>\n",
       "      <td>1.0</td>\n",
       "      <td>109.0</td>\n",
       "      <td>...</td>\n",
       "      <td>0</td>\n",
       "      <td>0</td>\n",
       "      <td>0</td>\n",
       "      <td>4.2</td>\n",
       "      <td>102.0</td>\n",
       "      <td>NaN</td>\n",
       "      <td>8230634.0</td>\n",
       "      <td>NaN</td>\n",
       "      <td>1.0</td>\n",
       "      <td>3.0</td>\n",
       "    </tr>\n",
       "    <tr>\n",
       "      <th>3</th>\n",
       "      <td>Almost a Comedy</td>\n",
       "      <td>tt11273332</td>\n",
       "      <td>China</td>\n",
       "      <td>Chinese</td>\n",
       "      <td>26990962.0</td>\n",
       "      <td>0.0</td>\n",
       "      <td>26990962.0</td>\n",
       "      <td>1.000000</td>\n",
       "      <td>1.0</td>\n",
       "      <td>111.0</td>\n",
       "      <td>...</td>\n",
       "      <td>0</td>\n",
       "      <td>0</td>\n",
       "      <td>0</td>\n",
       "      <td>6.7</td>\n",
       "      <td>349.0</td>\n",
       "      <td>NaN</td>\n",
       "      <td>26990962.0</td>\n",
       "      <td>NaN</td>\n",
       "      <td>1.0</td>\n",
       "      <td>NaN</td>\n",
       "    </tr>\n",
       "    <tr>\n",
       "      <th>4</th>\n",
       "      <td>Only Cloud Knows</td>\n",
       "      <td>tt10564446</td>\n",
       "      <td>China</td>\n",
       "      <td>Mandarin,English</td>\n",
       "      <td>23266174.0</td>\n",
       "      <td>0.0</td>\n",
       "      <td>23410836.0</td>\n",
       "      <td>0.993821</td>\n",
       "      <td>0.0</td>\n",
       "      <td>132.0</td>\n",
       "      <td>...</td>\n",
       "      <td>0</td>\n",
       "      <td>0</td>\n",
       "      <td>0</td>\n",
       "      <td>5.9</td>\n",
       "      <td>222.0</td>\n",
       "      <td>NaN</td>\n",
       "      <td>23410836.0</td>\n",
       "      <td>50.0</td>\n",
       "      <td>1.0</td>\n",
       "      <td>8.0</td>\n",
       "    </tr>\n",
       "  </tbody>\n",
       "</table>\n",
       "<p>5 rows × 44 columns</p>\n",
       "</div>"
      ],
      "text/plain": [
       "                    title_x imdb_title_id         country  \\\n",
       "0      Ip Man 4: The Finale     tt2076298  HongKong,China   \n",
       "1  Sheep Without a Shepherd    tt11210032           China   \n",
       "2                   S.W.A.T     tt9243442           China   \n",
       "3           Almost a Comedy    tt11273332           China   \n",
       "4          Only Cloud Knows    tt10564446           China   \n",
       "\n",
       "                     language      PRC_rev    USA_rev     intl_rev  \\\n",
       "0  Cantonese,English,Mandarin  165290606.0  3956031.0  176345966.0   \n",
       "1               Mandarin,Thai  191600000.0        0.0  191602146.0   \n",
       "2                    Mandarin    8230634.0        0.0    8230634.0   \n",
       "3                     Chinese   26990962.0        0.0   26990962.0   \n",
       "4            Mandarin,English   23266174.0        0.0   23410836.0   \n",
       "\n",
       "   percent_rev_from_prc  PRC_only  runtime  ...  Thriller War  Western  \\\n",
       "0              0.937309       0.0    107.0  ...         0   0        0   \n",
       "1              0.999989       0.0    112.0  ...         1   0        0   \n",
       "2              1.000000       1.0    109.0  ...         0   0        0   \n",
       "3              1.000000       1.0    111.0  ...         0   0        0   \n",
       "4              0.993821       0.0    132.0  ...         0   0        0   \n",
       "\n",
       "   avg_vote    votes      budget  worlwide_gross_income  metascore  \\\n",
       "0       7.1  20858.0  $ 52000000            176345966.0       62.0   \n",
       "1       6.8    630.0         NaN            191602146.0        NaN   \n",
       "2       4.2    102.0         NaN              8230634.0        NaN   \n",
       "3       6.7    349.0         NaN             26990962.0        NaN   \n",
       "4       5.9    222.0         NaN             23410836.0       50.0   \n",
       "\n",
       "   reviews_from_users  reviews_from_critics  \n",
       "0               259.0                  63.0  \n",
       "1                12.0                  16.0  \n",
       "2                 1.0                   3.0  \n",
       "3                 1.0                   NaN  \n",
       "4                 1.0                   8.0  \n",
       "\n",
       "[5 rows x 44 columns]"
      ]
     },
     "execution_count": 40,
     "metadata": {},
     "output_type": "execute_result"
    }
   ],
   "source": [
    "full_data.head()"
   ]
  },
  {
   "cell_type": "markdown",
   "metadata": {},
   "source": [
    "One key feature in the IMDb dataset is country information. This can be used to help identify whether a film may be described as a \"Chinese production.\" However country information alone is insufficient because nowadays the movie industry is incredibly globalized and Chinese production companies are associated with all kinds of movies that are not Chinese (like the Mr. Rogers Movie, Once Upon a Time in Hollywood, and Trainwreck). At the same time, I also want to make sure that a film like The Great Wall, which has a highly globalized production and an American lead actor (Matt Damon) but has a Chinese director and was released in China before it was released in the US is identified as \"Chinese\" and not mislabelled because of it's co-production with American comapnies. \n",
    "To tackle this challenge I leverage my domain knowledge as someone who has over 10 years of experience studying Chinese culture, language and politics to develop my own synthetic indicator of whether or not a film \"associated\" with China (through country tag as well as language and revenue) may be reasonably described as a Chinese production and crosscheck results by looking at different random segments of the resulting dataframe. "
   ]
  },
  {
   "cell_type": "markdown",
   "metadata": {},
   "source": [
    "First I construct a dummy variable `greater_china_prod` which counts whether the production of the film included China, Hong Kong or Macao."
   ]
  },
  {
   "cell_type": "code",
   "execution_count": 41,
   "metadata": {},
   "outputs": [],
   "source": [
    "countriesDF = full_data['country'].str.get_dummies(sep=',')"
   ]
  },
  {
   "cell_type": "code",
   "execution_count": 42,
   "metadata": {},
   "outputs": [
    {
     "data": {
      "text/plain": [
       "Index(['Argentina', 'Australia', 'Belgium', 'Brazil', 'Bulgaria', 'Cambodia',\n",
       "       'Canada', 'Chile', 'China', 'Colombia', 'Croatia', 'Cyprus',\n",
       "       'CzechRepublic', 'Denmark', 'Finland', 'France', 'Germany',\n",
       "       'Guadeloupe', 'HongKong', 'Hungary', 'Iceland', 'India', 'Iran',\n",
       "       'Ireland', 'Italy', 'Japan', 'Lebanon', 'Luxembourg', 'Macao',\n",
       "       'Malaysia', 'Malta', 'Mexico', 'Morocco', 'Myanmar', 'Nepal',\n",
       "       'Netherlands', 'NewZealand', 'Norway', 'Philippines', 'Poland',\n",
       "       'PuertoRico', 'Qatar', 'Russia', 'Serbia', 'Singapore', 'Slovakia',\n",
       "       'SouthAfrica', 'SouthKorea', 'Spain', 'Sweden', 'Switzerland', 'Taiwan',\n",
       "       'Thailand', 'UK', 'USA', 'Ukraine', 'UnitedArabEmirates', 'Vietnam'],\n",
       "      dtype='object')"
      ]
     },
     "execution_count": 42,
     "metadata": {},
     "output_type": "execute_result"
    }
   ],
   "source": [
    "countriesDF.columns"
   ]
  },
  {
   "cell_type": "code",
   "execution_count": 43,
   "metadata": {},
   "outputs": [],
   "source": [
    "countriesDF['greater_china_prod'] = countriesDF['China'] + countriesDF['HongKong'] + countriesDF['Macao']"
   ]
  },
  {
   "cell_type": "code",
   "execution_count": 44,
   "metadata": {},
   "outputs": [],
   "source": [
    "countries_df = countriesDF[['greater_china_prod']]"
   ]
  },
  {
   "cell_type": "markdown",
   "metadata": {},
   "source": [
    "Next I construct another dummy variable `ch_lang` that counts whether the film was released in Chinese, Mandarin and or one or more of the minority languages of China (Cantonese, Shanghainese, Tibetan, MinNan, Hokkien, or Hmong)."
   ]
  },
  {
   "cell_type": "code",
   "execution_count": 45,
   "metadata": {},
   "outputs": [],
   "source": [
    "langDF = full_data['language'].str.get_dummies(sep=',')"
   ]
  },
  {
   "cell_type": "code",
   "execution_count": 46,
   "metadata": {},
   "outputs": [],
   "source": [
    "langDF['ch_lang'] = langDF['Chinese'] + langDF['Mandarin'] + langDF['Cantonese'] + langDF['Shanghainese'] \\\n",
    "                    + langDF['Tibetan'] + langDF['MinNan'] + langDF['Hokkien'] + langDF['Hmong'] "
   ]
  },
  {
   "cell_type": "code",
   "execution_count": 47,
   "metadata": {},
   "outputs": [],
   "source": [
    "lang_df = langDF[['ch_lang']]"
   ]
  },
  {
   "cell_type": "markdown",
   "metadata": {},
   "source": [
    "Then I merge these dummy variables back into the DataFrame."
   ]
  },
  {
   "cell_type": "code",
   "execution_count": 48,
   "metadata": {},
   "outputs": [
    {
     "data": {
      "text/html": [
       "<div>\n",
       "<style scoped>\n",
       "    .dataframe tbody tr th:only-of-type {\n",
       "        vertical-align: middle;\n",
       "    }\n",
       "\n",
       "    .dataframe tbody tr th {\n",
       "        vertical-align: top;\n",
       "    }\n",
       "\n",
       "    .dataframe thead th {\n",
       "        text-align: right;\n",
       "    }\n",
       "</style>\n",
       "<table border=\"1\" class=\"dataframe\">\n",
       "  <thead>\n",
       "    <tr style=\"text-align: right;\">\n",
       "      <th></th>\n",
       "      <th>title_x</th>\n",
       "      <th>imdb_title_id</th>\n",
       "      <th>country</th>\n",
       "      <th>language</th>\n",
       "      <th>PRC_rev</th>\n",
       "      <th>USA_rev</th>\n",
       "      <th>intl_rev</th>\n",
       "      <th>percent_rev_from_prc</th>\n",
       "      <th>PRC_only</th>\n",
       "      <th>runtime</th>\n",
       "      <th>...</th>\n",
       "      <th>Western</th>\n",
       "      <th>avg_vote</th>\n",
       "      <th>votes</th>\n",
       "      <th>budget</th>\n",
       "      <th>worlwide_gross_income</th>\n",
       "      <th>metascore</th>\n",
       "      <th>reviews_from_users</th>\n",
       "      <th>reviews_from_critics</th>\n",
       "      <th>greater_china_prod</th>\n",
       "      <th>ch_lang</th>\n",
       "    </tr>\n",
       "  </thead>\n",
       "  <tbody>\n",
       "    <tr>\n",
       "      <th>0</th>\n",
       "      <td>Ip Man 4: The Finale</td>\n",
       "      <td>tt2076298</td>\n",
       "      <td>HongKong,China</td>\n",
       "      <td>Cantonese,English,Mandarin</td>\n",
       "      <td>165290606.0</td>\n",
       "      <td>3956031.0</td>\n",
       "      <td>176345966.0</td>\n",
       "      <td>0.937309</td>\n",
       "      <td>0.0</td>\n",
       "      <td>107.0</td>\n",
       "      <td>...</td>\n",
       "      <td>0</td>\n",
       "      <td>7.1</td>\n",
       "      <td>20858.0</td>\n",
       "      <td>$ 52000000</td>\n",
       "      <td>176345966.0</td>\n",
       "      <td>62.0</td>\n",
       "      <td>259.0</td>\n",
       "      <td>63.0</td>\n",
       "      <td>2</td>\n",
       "      <td>2</td>\n",
       "    </tr>\n",
       "    <tr>\n",
       "      <th>1</th>\n",
       "      <td>Sheep Without a Shepherd</td>\n",
       "      <td>tt11210032</td>\n",
       "      <td>China</td>\n",
       "      <td>Mandarin,Thai</td>\n",
       "      <td>191600000.0</td>\n",
       "      <td>0.0</td>\n",
       "      <td>191602146.0</td>\n",
       "      <td>0.999989</td>\n",
       "      <td>0.0</td>\n",
       "      <td>112.0</td>\n",
       "      <td>...</td>\n",
       "      <td>0</td>\n",
       "      <td>6.8</td>\n",
       "      <td>630.0</td>\n",
       "      <td>NaN</td>\n",
       "      <td>191602146.0</td>\n",
       "      <td>NaN</td>\n",
       "      <td>12.0</td>\n",
       "      <td>16.0</td>\n",
       "      <td>1</td>\n",
       "      <td>1</td>\n",
       "    </tr>\n",
       "    <tr>\n",
       "      <th>2</th>\n",
       "      <td>S.W.A.T</td>\n",
       "      <td>tt9243442</td>\n",
       "      <td>China</td>\n",
       "      <td>Mandarin</td>\n",
       "      <td>8230634.0</td>\n",
       "      <td>0.0</td>\n",
       "      <td>8230634.0</td>\n",
       "      <td>1.000000</td>\n",
       "      <td>1.0</td>\n",
       "      <td>109.0</td>\n",
       "      <td>...</td>\n",
       "      <td>0</td>\n",
       "      <td>4.2</td>\n",
       "      <td>102.0</td>\n",
       "      <td>NaN</td>\n",
       "      <td>8230634.0</td>\n",
       "      <td>NaN</td>\n",
       "      <td>1.0</td>\n",
       "      <td>3.0</td>\n",
       "      <td>1</td>\n",
       "      <td>1</td>\n",
       "    </tr>\n",
       "    <tr>\n",
       "      <th>3</th>\n",
       "      <td>Almost a Comedy</td>\n",
       "      <td>tt11273332</td>\n",
       "      <td>China</td>\n",
       "      <td>Chinese</td>\n",
       "      <td>26990962.0</td>\n",
       "      <td>0.0</td>\n",
       "      <td>26990962.0</td>\n",
       "      <td>1.000000</td>\n",
       "      <td>1.0</td>\n",
       "      <td>111.0</td>\n",
       "      <td>...</td>\n",
       "      <td>0</td>\n",
       "      <td>6.7</td>\n",
       "      <td>349.0</td>\n",
       "      <td>NaN</td>\n",
       "      <td>26990962.0</td>\n",
       "      <td>NaN</td>\n",
       "      <td>1.0</td>\n",
       "      <td>NaN</td>\n",
       "      <td>1</td>\n",
       "      <td>1</td>\n",
       "    </tr>\n",
       "    <tr>\n",
       "      <th>4</th>\n",
       "      <td>Only Cloud Knows</td>\n",
       "      <td>tt10564446</td>\n",
       "      <td>China</td>\n",
       "      <td>Mandarin,English</td>\n",
       "      <td>23266174.0</td>\n",
       "      <td>0.0</td>\n",
       "      <td>23410836.0</td>\n",
       "      <td>0.993821</td>\n",
       "      <td>0.0</td>\n",
       "      <td>132.0</td>\n",
       "      <td>...</td>\n",
       "      <td>0</td>\n",
       "      <td>5.9</td>\n",
       "      <td>222.0</td>\n",
       "      <td>NaN</td>\n",
       "      <td>23410836.0</td>\n",
       "      <td>50.0</td>\n",
       "      <td>1.0</td>\n",
       "      <td>8.0</td>\n",
       "      <td>1</td>\n",
       "      <td>1</td>\n",
       "    </tr>\n",
       "  </tbody>\n",
       "</table>\n",
       "<p>5 rows × 46 columns</p>\n",
       "</div>"
      ],
      "text/plain": [
       "                    title_x imdb_title_id         country  \\\n",
       "0      Ip Man 4: The Finale     tt2076298  HongKong,China   \n",
       "1  Sheep Without a Shepherd    tt11210032           China   \n",
       "2                   S.W.A.T     tt9243442           China   \n",
       "3           Almost a Comedy    tt11273332           China   \n",
       "4          Only Cloud Knows    tt10564446           China   \n",
       "\n",
       "                     language      PRC_rev    USA_rev     intl_rev  \\\n",
       "0  Cantonese,English,Mandarin  165290606.0  3956031.0  176345966.0   \n",
       "1               Mandarin,Thai  191600000.0        0.0  191602146.0   \n",
       "2                    Mandarin    8230634.0        0.0    8230634.0   \n",
       "3                     Chinese   26990962.0        0.0   26990962.0   \n",
       "4            Mandarin,English   23266174.0        0.0   23410836.0   \n",
       "\n",
       "   percent_rev_from_prc  PRC_only  runtime  ...  Western avg_vote    votes  \\\n",
       "0              0.937309       0.0    107.0  ...        0      7.1  20858.0   \n",
       "1              0.999989       0.0    112.0  ...        0      6.8    630.0   \n",
       "2              1.000000       1.0    109.0  ...        0      4.2    102.0   \n",
       "3              1.000000       1.0    111.0  ...        0      6.7    349.0   \n",
       "4              0.993821       0.0    132.0  ...        0      5.9    222.0   \n",
       "\n",
       "       budget worlwide_gross_income  metascore  reviews_from_users  \\\n",
       "0  $ 52000000           176345966.0       62.0               259.0   \n",
       "1         NaN           191602146.0        NaN                12.0   \n",
       "2         NaN             8230634.0        NaN                 1.0   \n",
       "3         NaN            26990962.0        NaN                 1.0   \n",
       "4         NaN            23410836.0       50.0                 1.0   \n",
       "\n",
       "   reviews_from_critics  greater_china_prod  ch_lang  \n",
       "0                  63.0                   2        2  \n",
       "1                  16.0                   1        1  \n",
       "2                   3.0                   1        1  \n",
       "3                   NaN                   1        1  \n",
       "4                   8.0                   1        1  \n",
       "\n",
       "[5 rows x 46 columns]"
      ]
     },
     "execution_count": 48,
     "metadata": {},
     "output_type": "execute_result"
    }
   ],
   "source": [
    "full_data = pd.concat((full_data,countries_df,lang_df),axis=1)\n",
    "full_data.reset_index(drop=True, inplace=True)\n",
    "full_data.head()"
   ]
  },
  {
   "cell_type": "code",
   "execution_count": 49,
   "metadata": {},
   "outputs": [],
   "source": [
    "with open('full_data.pickle', 'wb') as to_write:\n",
    "    pickle.dump(full_data, to_write)"
   ]
  },
  {
   "cell_type": "code",
   "execution_count": 50,
   "metadata": {},
   "outputs": [
    {
     "name": "stdout",
     "output_type": "stream",
     "text": [
      "<class 'pandas.core.frame.DataFrame'>\n",
      "RangeIndex: 1086 entries, 0 to 1085\n",
      "Data columns (total 46 columns):\n",
      " #   Column                 Non-Null Count  Dtype         \n",
      "---  ------                 --------------  -----         \n",
      " 0   title_x                1086 non-null   object        \n",
      " 1   imdb_title_id          1086 non-null   object        \n",
      " 2   country                732 non-null    object        \n",
      " 3   language               728 non-null    object        \n",
      " 4   PRC_rev                1086 non-null   float64       \n",
      " 5   USA_rev                1086 non-null   float64       \n",
      " 6   intl_rev               1086 non-null   float64       \n",
      " 7   percent_rev_from_prc   1086 non-null   float64       \n",
      " 8   PRC_only               1086 non-null   float64       \n",
      " 9   runtime                1086 non-null   float64       \n",
      " 10  release_period         1086 non-null   float64       \n",
      " 11  release_date           1086 non-null   datetime64[ns]\n",
      " 12  release_month          1086 non-null   int64         \n",
      " 13  year_x                 1086 non-null   int64         \n",
      " 14  genres                 1086 non-null   object        \n",
      " 15  Action                 1086 non-null   int64         \n",
      " 16  Adventure              1086 non-null   int64         \n",
      " 17  Animation              1086 non-null   int64         \n",
      " 18  Biography              1086 non-null   int64         \n",
      " 19  Comedy                 1086 non-null   int64         \n",
      " 20  Crime                  1086 non-null   int64         \n",
      " 21  Documentary            1086 non-null   int64         \n",
      " 22  Drama                  1086 non-null   int64         \n",
      " 23  Family                 1086 non-null   int64         \n",
      " 24  Fantasy                1086 non-null   int64         \n",
      " 25  History                1086 non-null   int64         \n",
      " 26  Horror                 1086 non-null   int64         \n",
      " 27  Music                  1086 non-null   int64         \n",
      " 28  Musical                1086 non-null   int64         \n",
      " 29  Mystery                1086 non-null   int64         \n",
      " 30  Romance                1086 non-null   int64         \n",
      " 31  Sci-Fi                 1086 non-null   int64         \n",
      " 32  Short                  1086 non-null   int64         \n",
      " 33  Sport                  1086 non-null   int64         \n",
      " 34  Thriller               1086 non-null   int64         \n",
      " 35  War                    1086 non-null   int64         \n",
      " 36  Western                1086 non-null   int64         \n",
      " 37  avg_vote               732 non-null    float64       \n",
      " 38  votes                  732 non-null    float64       \n",
      " 39  budget                 391 non-null    object        \n",
      " 40  worlwide_gross_income  732 non-null    float64       \n",
      " 41  metascore              343 non-null    float64       \n",
      " 42  reviews_from_users     699 non-null    float64       \n",
      " 43  reviews_from_critics   713 non-null    float64       \n",
      " 44  greater_china_prod     1086 non-null   int64         \n",
      " 45  ch_lang                1086 non-null   int64         \n",
      "dtypes: datetime64[ns](1), float64(13), int64(26), object(6)\n",
      "memory usage: 390.4+ KB\n"
     ]
    }
   ],
   "source": [
    "full_data.info()"
   ]
  },
  {
   "cell_type": "markdown",
   "metadata": {},
   "source": [
    "### Filter whether or not a film may be reasonably labelled as a Chinese production."
   ]
  },
  {
   "cell_type": "markdown",
   "metadata": {},
   "source": [
    "A somewhat obvious way to check whether a film is a Chinese production is whether or not the majority of its revenue is from China. Most Chinese productions gain the majority of their international revenue from China. However, were I to screen based on this directly using `percent_rev_from_prc`, I would be inadvertetly selecting on the dependent variable, which is methodologically problematic. It also risks screening out the odd Chinese film that was an international success. Furthermore, there are a number of films that look like 100% of their revenue is from China but are in fact re-releases of US films. This is obscured in the Box Office Mojo data which counts re-releases separately from original releases. Luckily, the IMDb data has a variable of `worldwide_gross_income` which captures a film's entire revenue (across multiple releases).\n",
    "Therefore we can ensure that a re-released Ameican film is not inaccurately labelled as a Chinese production by comparing Box Office Mojo's `intl_rev` with IMDb's `worldwide_gross_income`. After some preliminary EDA, I assert that if the difference is less than 100,000 that difference is small enough that it is probably due to minor reporting discrepencies and highly likely to be a Chinese (or other non-American international) production. However if that difference is greater than 100,000 it is probably a re-release.  \n",
    "I also surmise that if the film has no reported `worldwide_gross_income` there's a high likelihood that it is a Chinese (or other non-American international) production because non-American films with little or no international distribution outside their countries of origins are much more likely to be missing data on IMDb. "
   ]
  },
  {
   "cell_type": "code",
   "execution_count": 51,
   "metadata": {},
   "outputs": [],
   "source": [
    "#check that not just a re-release\n",
    "full_data['diff_intl_ww_income'] = abs(full_data['worlwide_gross_income']-full_data['intl_rev'])\n",
    "# if IMDb's count of worldwide income is greater than $100000 of the reported Box Office Mojo Data it is highly likely\n",
    "# that film is a re-release of an American film, if it is less than $100,000 likely to be Chinese (or other intl)\n",
    "sub_money_mask1 = full_data['diff_intl_ww_income']<100000 \n",
    "sub_money_mask2 = full_data['worlwide_gross_income'].isna() # if na there's high likelihood that it's a CH film \n",
    "money_mask = sub_money_mask1 | sub_money_mask2\n",
    "# mask3 = money_mask2 "
   ]
  },
  {
   "cell_type": "markdown",
   "metadata": {},
   "source": [
    "Now to use those dummy variables.  \n",
    "I start by considering what language the film was released in. If the film was released in Chinese, Mandarin and or one or more of the minority languages of China (Cantonese, Shanghainese, Tibetan, MinNan, Hokkien, or Hmong) - i.e. has a value of 1 or more for `ch_lang` there is a high likelihood that it is a Chinese production. I also surmise that if the film has no reported `language` there's a high likelihood that it is a Chinese (or other non-American international) production because non-American films with little or no international distribution outside their countries of origins are much more likely to be missing data on IMDb. As an additional screener, because Chinese production companies appear from initial EDA to parter up with American and Japanese films that go on to be released only in the English language or only the Japanese language I assert that if the language of release was not English alone and not Japenese alone it is more likely to be a Chinese production."
   ]
  },
  {
   "cell_type": "code",
   "execution_count": 52,
   "metadata": {},
   "outputs": [],
   "source": [
    "lang_sub_mask1 = full_data['ch_lang'] >= 1 \n",
    "lang_sub_mask2 = full_data['language'].isna()\n",
    "lang_mask = lang_sub_mask1 | lang_sub_mask2"
   ]
  },
  {
   "cell_type": "code",
   "execution_count": 53,
   "metadata": {},
   "outputs": [],
   "source": [
    "china_mask =  lang_mask & money_mask "
   ]
  },
  {
   "cell_type": "code",
   "execution_count": 54,
   "metadata": {},
   "outputs": [
    {
     "data": {
      "text/plain": [
       "(681, 47)"
      ]
     },
     "execution_count": 54,
     "metadata": {},
     "output_type": "execute_result"
    }
   ],
   "source": [
    "just_china = full_data[china_mask]\n",
    "just_china.shape"
   ]
  },
  {
   "cell_type": "code",
   "execution_count": 55,
   "metadata": {},
   "outputs": [
    {
     "data": {
      "text/plain": [
       "(681, 47)"
      ]
     },
     "execution_count": 55,
     "metadata": {},
     "output_type": "execute_result"
    }
   ],
   "source": [
    "mask_eng = just_china['language']!='English'\n",
    "mask_jap = just_china['language']!='Japanese'\n",
    "second_mask = mask_eng & mask_jap\n",
    "just_china = just_china[second_mask]\n",
    "just_china.shape"
   ]
  },
  {
   "cell_type": "markdown",
   "metadata": {},
   "source": [
    "Finally I return to the country label of each film. If the production of the film included China, Hong Kong or Macao - i.e. has a score of 1 or more on the dummy variable `greater_china_prod` it is more likely to be a Chinese production. I also surmise that if a film has no `country` data there's a high likelihood that it is a Chinese (or other non-American international) production -- again because non-American films with little or no international distribution outside their countries of origins are much more likely to be missing data on IMDb. "
   ]
  },
  {
   "cell_type": "code",
   "execution_count": 56,
   "metadata": {},
   "outputs": [],
   "source": [
    "another_submask1 = just_china['country'].isna()\n",
    "another_submask2 = just_china['greater_china_prod']>=1\n",
    "mask3 = another_submask1 | another_submask2"
   ]
  },
  {
   "cell_type": "code",
   "execution_count": 57,
   "metadata": {},
   "outputs": [
    {
     "data": {
      "text/plain": [
       "(656, 47)"
      ]
     },
     "execution_count": 57,
     "metadata": {},
     "output_type": "execute_result"
    }
   ],
   "source": [
    "just_china = just_china[mask3]\n",
    "just_china.shape"
   ]
  },
  {
   "cell_type": "markdown",
   "metadata": {},
   "source": [
    "656 films meet my criteria to be reasonably described as a Chinese film. Now I will create a dummy variable to label them as such."
   ]
  },
  {
   "cell_type": "code",
   "execution_count": 58,
   "metadata": {},
   "outputs": [],
   "source": [
    "just_china['ch_film'] = 1 #everything in the just_china database gets a 1 for my new var ch_film"
   ]
  },
  {
   "cell_type": "code",
   "execution_count": 59,
   "metadata": {},
   "outputs": [],
   "source": [
    "ch_film = just_china['ch_film'] # create a Series of this feature to then concat with full_data DF"
   ]
  },
  {
   "cell_type": "code",
   "execution_count": 60,
   "metadata": {},
   "outputs": [],
   "source": [
    "combined = pd.concat([full_data, ch_film], axis=1, sort=False)"
   ]
  },
  {
   "cell_type": "code",
   "execution_count": 61,
   "metadata": {},
   "outputs": [],
   "source": [
    "combined['ch_film'].fillna((0), inplace=True) # assign 0 to everything from the full_data set that was not in the \n",
    "# just_china subset b/c they have not been identified as a Chinese film "
   ]
  },
  {
   "cell_type": "code",
   "execution_count": 62,
   "metadata": {},
   "outputs": [
    {
     "data": {
      "text/html": [
       "<div>\n",
       "<style scoped>\n",
       "    .dataframe tbody tr th:only-of-type {\n",
       "        vertical-align: middle;\n",
       "    }\n",
       "\n",
       "    .dataframe tbody tr th {\n",
       "        vertical-align: top;\n",
       "    }\n",
       "\n",
       "    .dataframe thead th {\n",
       "        text-align: right;\n",
       "    }\n",
       "</style>\n",
       "<table border=\"1\" class=\"dataframe\">\n",
       "  <thead>\n",
       "    <tr style=\"text-align: right;\">\n",
       "      <th></th>\n",
       "      <th>title_x</th>\n",
       "      <th>imdb_title_id</th>\n",
       "      <th>country</th>\n",
       "      <th>language</th>\n",
       "      <th>PRC_rev</th>\n",
       "      <th>USA_rev</th>\n",
       "      <th>intl_rev</th>\n",
       "      <th>percent_rev_from_prc</th>\n",
       "      <th>PRC_only</th>\n",
       "      <th>runtime</th>\n",
       "      <th>...</th>\n",
       "      <th>votes</th>\n",
       "      <th>budget</th>\n",
       "      <th>worlwide_gross_income</th>\n",
       "      <th>metascore</th>\n",
       "      <th>reviews_from_users</th>\n",
       "      <th>reviews_from_critics</th>\n",
       "      <th>greater_china_prod</th>\n",
       "      <th>ch_lang</th>\n",
       "      <th>diff_intl_ww_income</th>\n",
       "      <th>ch_film</th>\n",
       "    </tr>\n",
       "  </thead>\n",
       "  <tbody>\n",
       "    <tr>\n",
       "      <th>200</th>\n",
       "      <td>Avengers: Endgame</td>\n",
       "      <td>tt4154796</td>\n",
       "      <td>USA</td>\n",
       "      <td>English,Japanese,Xhosa,German</td>\n",
       "      <td>629100000.0</td>\n",
       "      <td>858373000.0</td>\n",
       "      <td>2.797801e+09</td>\n",
       "      <td>0.224855</td>\n",
       "      <td>0.0</td>\n",
       "      <td>181.0</td>\n",
       "      <td>...</td>\n",
       "      <td>754786.0</td>\n",
       "      <td>$ 356000000</td>\n",
       "      <td>2.797801e+09</td>\n",
       "      <td>78.0</td>\n",
       "      <td>8869.0</td>\n",
       "      <td>557.0</td>\n",
       "      <td>0</td>\n",
       "      <td>0</td>\n",
       "      <td>0.0</td>\n",
       "      <td>0.0</td>\n",
       "    </tr>\n",
       "    <tr>\n",
       "      <th>201</th>\n",
       "      <td>Pear Blossom</td>\n",
       "      <td>tt10388774</td>\n",
       "      <td>NaN</td>\n",
       "      <td>NaN</td>\n",
       "      <td>2508.0</td>\n",
       "      <td>0.0</td>\n",
       "      <td>2.508000e+03</td>\n",
       "      <td>1.000000</td>\n",
       "      <td>1.0</td>\n",
       "      <td>95.0</td>\n",
       "      <td>...</td>\n",
       "      <td>NaN</td>\n",
       "      <td>NaN</td>\n",
       "      <td>NaN</td>\n",
       "      <td>NaN</td>\n",
       "      <td>NaN</td>\n",
       "      <td>NaN</td>\n",
       "      <td>0</td>\n",
       "      <td>0</td>\n",
       "      <td>NaN</td>\n",
       "      <td>1.0</td>\n",
       "    </tr>\n",
       "    <tr>\n",
       "      <th>202</th>\n",
       "      <td>Posledniy bogatyr</td>\n",
       "      <td>tt6175394</td>\n",
       "      <td>Russia,USA</td>\n",
       "      <td>Russian</td>\n",
       "      <td>81918.0</td>\n",
       "      <td>0.0</td>\n",
       "      <td>8.191800e+04</td>\n",
       "      <td>1.000000</td>\n",
       "      <td>1.0</td>\n",
       "      <td>114.0</td>\n",
       "      <td>...</td>\n",
       "      <td>2144.0</td>\n",
       "      <td>NaN</td>\n",
       "      <td>3.070019e+07</td>\n",
       "      <td>NaN</td>\n",
       "      <td>8.0</td>\n",
       "      <td>7.0</td>\n",
       "      <td>0</td>\n",
       "      <td>0</td>\n",
       "      <td>30618274.0</td>\n",
       "      <td>0.0</td>\n",
       "    </tr>\n",
       "    <tr>\n",
       "      <th>203</th>\n",
       "      <td>Girls Always Happy</td>\n",
       "      <td>tt7955712</td>\n",
       "      <td>China</td>\n",
       "      <td>Chinese</td>\n",
       "      <td>20671.0</td>\n",
       "      <td>0.0</td>\n",
       "      <td>2.067100e+04</td>\n",
       "      <td>1.000000</td>\n",
       "      <td>1.0</td>\n",
       "      <td>117.0</td>\n",
       "      <td>...</td>\n",
       "      <td>111.0</td>\n",
       "      <td>NaN</td>\n",
       "      <td>2.067100e+04</td>\n",
       "      <td>NaN</td>\n",
       "      <td>NaN</td>\n",
       "      <td>8.0</td>\n",
       "      <td>1</td>\n",
       "      <td>1</td>\n",
       "      <td>0.0</td>\n",
       "      <td>1.0</td>\n",
       "    </tr>\n",
       "    <tr>\n",
       "      <th>204</th>\n",
       "      <td>Change of Gangster</td>\n",
       "      <td>tt7618402</td>\n",
       "      <td>NaN</td>\n",
       "      <td>NaN</td>\n",
       "      <td>2415054.0</td>\n",
       "      <td>0.0</td>\n",
       "      <td>2.415054e+06</td>\n",
       "      <td>1.000000</td>\n",
       "      <td>1.0</td>\n",
       "      <td>90.0</td>\n",
       "      <td>...</td>\n",
       "      <td>NaN</td>\n",
       "      <td>NaN</td>\n",
       "      <td>NaN</td>\n",
       "      <td>NaN</td>\n",
       "      <td>NaN</td>\n",
       "      <td>NaN</td>\n",
       "      <td>0</td>\n",
       "      <td>0</td>\n",
       "      <td>NaN</td>\n",
       "      <td>1.0</td>\n",
       "    </tr>\n",
       "    <tr>\n",
       "      <th>205</th>\n",
       "      <td>Bohemian Rhapsody</td>\n",
       "      <td>tt1727824</td>\n",
       "      <td>UK,USA</td>\n",
       "      <td>English,BritishSignLanguage</td>\n",
       "      <td>13980037.0</td>\n",
       "      <td>216428042.0</td>\n",
       "      <td>9.036553e+08</td>\n",
       "      <td>0.015471</td>\n",
       "      <td>0.0</td>\n",
       "      <td>134.0</td>\n",
       "      <td>...</td>\n",
       "      <td>433549.0</td>\n",
       "      <td>$ 52000000</td>\n",
       "      <td>9.068847e+08</td>\n",
       "      <td>49.0</td>\n",
       "      <td>3367.0</td>\n",
       "      <td>461.0</td>\n",
       "      <td>0</td>\n",
       "      <td>0</td>\n",
       "      <td>3229431.0</td>\n",
       "      <td>0.0</td>\n",
       "    </tr>\n",
       "    <tr>\n",
       "      <th>206</th>\n",
       "      <td>See You Up There</td>\n",
       "      <td>tt5258850</td>\n",
       "      <td>NaN</td>\n",
       "      <td>NaN</td>\n",
       "      <td>355180.0</td>\n",
       "      <td>0.0</td>\n",
       "      <td>1.609435e+07</td>\n",
       "      <td>0.022069</td>\n",
       "      <td>0.0</td>\n",
       "      <td>117.0</td>\n",
       "      <td>...</td>\n",
       "      <td>NaN</td>\n",
       "      <td>NaN</td>\n",
       "      <td>NaN</td>\n",
       "      <td>NaN</td>\n",
       "      <td>NaN</td>\n",
       "      <td>NaN</td>\n",
       "      <td>0</td>\n",
       "      <td>0</td>\n",
       "      <td>NaN</td>\n",
       "      <td>1.0</td>\n",
       "    </tr>\n",
       "    <tr>\n",
       "      <th>207</th>\n",
       "      <td>Half the Sky</td>\n",
       "      <td>tt10331100</td>\n",
       "      <td>NaN</td>\n",
       "      <td>NaN</td>\n",
       "      <td>76483.0</td>\n",
       "      <td>0.0</td>\n",
       "      <td>7.648300e+04</td>\n",
       "      <td>1.000000</td>\n",
       "      <td>1.0</td>\n",
       "      <td>99.0</td>\n",
       "      <td>...</td>\n",
       "      <td>NaN</td>\n",
       "      <td>NaN</td>\n",
       "      <td>NaN</td>\n",
       "      <td>NaN</td>\n",
       "      <td>NaN</td>\n",
       "      <td>NaN</td>\n",
       "      <td>0</td>\n",
       "      <td>0</td>\n",
       "      <td>NaN</td>\n",
       "      <td>1.0</td>\n",
       "    </tr>\n",
       "    <tr>\n",
       "      <th>208</th>\n",
       "      <td>Family is Family</td>\n",
       "      <td>tt6859418</td>\n",
       "      <td>France</td>\n",
       "      <td>French,English</td>\n",
       "      <td>142058.0</td>\n",
       "      <td>0.0</td>\n",
       "      <td>4.995487e+07</td>\n",
       "      <td>0.002844</td>\n",
       "      <td>0.0</td>\n",
       "      <td>107.0</td>\n",
       "      <td>...</td>\n",
       "      <td>3252.0</td>\n",
       "      <td>NaN</td>\n",
       "      <td>4.995487e+07</td>\n",
       "      <td>NaN</td>\n",
       "      <td>10.0</td>\n",
       "      <td>27.0</td>\n",
       "      <td>0</td>\n",
       "      <td>0</td>\n",
       "      <td>0.0</td>\n",
       "      <td>0.0</td>\n",
       "    </tr>\n",
       "    <tr>\n",
       "      <th>209</th>\n",
       "      <td>The Photographer</td>\n",
       "      <td>tt9598766</td>\n",
       "      <td>NaN</td>\n",
       "      <td>NaN</td>\n",
       "      <td>3042381.0</td>\n",
       "      <td>0.0</td>\n",
       "      <td>3.042381e+06</td>\n",
       "      <td>1.000000</td>\n",
       "      <td>1.0</td>\n",
       "      <td>112.0</td>\n",
       "      <td>...</td>\n",
       "      <td>NaN</td>\n",
       "      <td>NaN</td>\n",
       "      <td>NaN</td>\n",
       "      <td>NaN</td>\n",
       "      <td>NaN</td>\n",
       "      <td>NaN</td>\n",
       "      <td>0</td>\n",
       "      <td>0</td>\n",
       "      <td>NaN</td>\n",
       "      <td>1.0</td>\n",
       "    </tr>\n",
       "  </tbody>\n",
       "</table>\n",
       "<p>10 rows × 48 columns</p>\n",
       "</div>"
      ],
      "text/plain": [
       "                title_x imdb_title_id     country  \\\n",
       "200   Avengers: Endgame     tt4154796         USA   \n",
       "201        Pear Blossom    tt10388774         NaN   \n",
       "202   Posledniy bogatyr     tt6175394  Russia,USA   \n",
       "203  Girls Always Happy     tt7955712       China   \n",
       "204  Change of Gangster     tt7618402         NaN   \n",
       "205   Bohemian Rhapsody     tt1727824      UK,USA   \n",
       "206    See You Up There     tt5258850         NaN   \n",
       "207        Half the Sky    tt10331100         NaN   \n",
       "208    Family is Family     tt6859418      France   \n",
       "209    The Photographer     tt9598766         NaN   \n",
       "\n",
       "                          language      PRC_rev      USA_rev      intl_rev  \\\n",
       "200  English,Japanese,Xhosa,German  629100000.0  858373000.0  2.797801e+09   \n",
       "201                            NaN       2508.0          0.0  2.508000e+03   \n",
       "202                        Russian      81918.0          0.0  8.191800e+04   \n",
       "203                        Chinese      20671.0          0.0  2.067100e+04   \n",
       "204                            NaN    2415054.0          0.0  2.415054e+06   \n",
       "205    English,BritishSignLanguage   13980037.0  216428042.0  9.036553e+08   \n",
       "206                            NaN     355180.0          0.0  1.609435e+07   \n",
       "207                            NaN      76483.0          0.0  7.648300e+04   \n",
       "208                 French,English     142058.0          0.0  4.995487e+07   \n",
       "209                            NaN    3042381.0          0.0  3.042381e+06   \n",
       "\n",
       "     percent_rev_from_prc  PRC_only  runtime  ...     votes       budget  \\\n",
       "200              0.224855       0.0    181.0  ...  754786.0  $ 356000000   \n",
       "201              1.000000       1.0     95.0  ...       NaN          NaN   \n",
       "202              1.000000       1.0    114.0  ...    2144.0          NaN   \n",
       "203              1.000000       1.0    117.0  ...     111.0          NaN   \n",
       "204              1.000000       1.0     90.0  ...       NaN          NaN   \n",
       "205              0.015471       0.0    134.0  ...  433549.0   $ 52000000   \n",
       "206              0.022069       0.0    117.0  ...       NaN          NaN   \n",
       "207              1.000000       1.0     99.0  ...       NaN          NaN   \n",
       "208              0.002844       0.0    107.0  ...    3252.0          NaN   \n",
       "209              1.000000       1.0    112.0  ...       NaN          NaN   \n",
       "\n",
       "     worlwide_gross_income  metascore reviews_from_users  \\\n",
       "200           2.797801e+09       78.0             8869.0   \n",
       "201                    NaN        NaN                NaN   \n",
       "202           3.070019e+07        NaN                8.0   \n",
       "203           2.067100e+04        NaN                NaN   \n",
       "204                    NaN        NaN                NaN   \n",
       "205           9.068847e+08       49.0             3367.0   \n",
       "206                    NaN        NaN                NaN   \n",
       "207                    NaN        NaN                NaN   \n",
       "208           4.995487e+07        NaN               10.0   \n",
       "209                    NaN        NaN                NaN   \n",
       "\n",
       "     reviews_from_critics  greater_china_prod  ch_lang  diff_intl_ww_income  \\\n",
       "200                 557.0                   0        0                  0.0   \n",
       "201                   NaN                   0        0                  NaN   \n",
       "202                   7.0                   0        0           30618274.0   \n",
       "203                   8.0                   1        1                  0.0   \n",
       "204                   NaN                   0        0                  NaN   \n",
       "205                 461.0                   0        0            3229431.0   \n",
       "206                   NaN                   0        0                  NaN   \n",
       "207                   NaN                   0        0                  NaN   \n",
       "208                  27.0                   0        0                  0.0   \n",
       "209                   NaN                   0        0                  NaN   \n",
       "\n",
       "     ch_film  \n",
       "200      0.0  \n",
       "201      1.0  \n",
       "202      0.0  \n",
       "203      1.0  \n",
       "204      1.0  \n",
       "205      0.0  \n",
       "206      1.0  \n",
       "207      1.0  \n",
       "208      0.0  \n",
       "209      1.0  \n",
       "\n",
       "[10 rows x 48 columns]"
      ]
     },
     "execution_count": 62,
     "metadata": {},
     "output_type": "execute_result"
    }
   ],
   "source": [
    "combined.iloc[200:210]"
   ]
  },
  {
   "cell_type": "code",
   "execution_count": 63,
   "metadata": {},
   "outputs": [],
   "source": [
    "with open('combined.pickle', 'wb') as to_write:\n",
    "    pickle.dump(combined, to_write)"
   ]
  },
  {
   "cell_type": "markdown",
   "metadata": {},
   "source": [
    "## EDA"
   ]
  },
  {
   "cell_type": "markdown",
   "metadata": {},
   "source": [
    "Finally I have all the new engineered features incorporated into the full dataset. However many of the features still have a lot of null values. Here again it is crucial to be cognizant of the fact that non-American films with little or no international distribution outside their countries of origins are much more likely to be missing data on IMDb. Yet I'm interested in analyzing as many films realeased in China as possible which would mean were I to drop those rows, international films would become disproprtionately represented in my dataset. Therefore rather than drop those rows, I decide to remove these features. I also drop features that are no longer of use (like `imdb_title_id` and `genres`)."
   ]
  },
  {
   "cell_type": "code",
   "execution_count": 64,
   "metadata": {},
   "outputs": [],
   "source": [
    "with open('combined.pickle', 'rb') as read_file:\n",
    "    combined = pickle.load(read_file)"
   ]
  },
  {
   "cell_type": "code",
   "execution_count": 65,
   "metadata": {},
   "outputs": [
    {
     "name": "stdout",
     "output_type": "stream",
     "text": [
      "<class 'pandas.core.frame.DataFrame'>\n",
      "Int64Index: 1086 entries, 0 to 1085\n",
      "Data columns (total 48 columns):\n",
      " #   Column                 Non-Null Count  Dtype         \n",
      "---  ------                 --------------  -----         \n",
      " 0   title_x                1086 non-null   object        \n",
      " 1   imdb_title_id          1086 non-null   object        \n",
      " 2   country                732 non-null    object        \n",
      " 3   language               728 non-null    object        \n",
      " 4   PRC_rev                1086 non-null   float64       \n",
      " 5   USA_rev                1086 non-null   float64       \n",
      " 6   intl_rev               1086 non-null   float64       \n",
      " 7   percent_rev_from_prc   1086 non-null   float64       \n",
      " 8   PRC_only               1086 non-null   float64       \n",
      " 9   runtime                1086 non-null   float64       \n",
      " 10  release_period         1086 non-null   float64       \n",
      " 11  release_date           1086 non-null   datetime64[ns]\n",
      " 12  release_month          1086 non-null   int64         \n",
      " 13  year_x                 1086 non-null   int64         \n",
      " 14  genres                 1086 non-null   object        \n",
      " 15  Action                 1086 non-null   int64         \n",
      " 16  Adventure              1086 non-null   int64         \n",
      " 17  Animation              1086 non-null   int64         \n",
      " 18  Biography              1086 non-null   int64         \n",
      " 19  Comedy                 1086 non-null   int64         \n",
      " 20  Crime                  1086 non-null   int64         \n",
      " 21  Documentary            1086 non-null   int64         \n",
      " 22  Drama                  1086 non-null   int64         \n",
      " 23  Family                 1086 non-null   int64         \n",
      " 24  Fantasy                1086 non-null   int64         \n",
      " 25  History                1086 non-null   int64         \n",
      " 26  Horror                 1086 non-null   int64         \n",
      " 27  Music                  1086 non-null   int64         \n",
      " 28  Musical                1086 non-null   int64         \n",
      " 29  Mystery                1086 non-null   int64         \n",
      " 30  Romance                1086 non-null   int64         \n",
      " 31  Sci-Fi                 1086 non-null   int64         \n",
      " 32  Short                  1086 non-null   int64         \n",
      " 33  Sport                  1086 non-null   int64         \n",
      " 34  Thriller               1086 non-null   int64         \n",
      " 35  War                    1086 non-null   int64         \n",
      " 36  Western                1086 non-null   int64         \n",
      " 37  avg_vote               732 non-null    float64       \n",
      " 38  votes                  732 non-null    float64       \n",
      " 39  budget                 391 non-null    object        \n",
      " 40  worlwide_gross_income  732 non-null    float64       \n",
      " 41  metascore              343 non-null    float64       \n",
      " 42  reviews_from_users     699 non-null    float64       \n",
      " 43  reviews_from_critics   713 non-null    float64       \n",
      " 44  greater_china_prod     1086 non-null   int64         \n",
      " 45  ch_lang                1086 non-null   int64         \n",
      " 46  diff_intl_ww_income    732 non-null    float64       \n",
      " 47  ch_film                1086 non-null   float64       \n",
      "dtypes: datetime64[ns](1), float64(15), int64(26), object(6)\n",
      "memory usage: 415.7+ KB\n"
     ]
    }
   ],
   "source": [
    "combined.info()"
   ]
  },
  {
   "cell_type": "markdown",
   "metadata": {},
   "source": [
    "I remove several columns that are now irrlevant for explaining my target variable `PRC_rev` or obviously co-linear with other variables including: `imdb_title_id`, `country`, `language`, `intl_rev`, `percent_rev_from_prc`, `year_x`, `release_date`, `genres`, `avg_vote`, `votes`, `budget`, `worlwide_gross_income`, `metascore`, `reviews_from_users`, `reviews_from_critics`, `greater_china_prod`, `ch_lang`, `diff_intl_ww_income`,"
   ]
  },
  {
   "cell_type": "markdown",
   "metadata": {},
   "source": [
    "(Note: `sns.pairplot(combined)` makes the file too large to upload to github. So it is ommitted here.)"
   ]
  },
  {
   "cell_type": "code",
   "execution_count": 66,
   "metadata": {},
   "outputs": [],
   "source": [
    "combined = combined[['title_x', 'PRC_rev', 'USA_rev','intl_rev', 'percent_rev_from_prc', 'PRC_only', 'runtime',\n",
    "       'release_period', 'release_date', 'release_month', 'year_x', \n",
    "       'Action', 'Adventure', 'Animation', 'Biography', 'Comedy', 'Crime',\n",
    "       'Documentary', 'Drama', 'Family', 'Fantasy', 'History', 'Horror',\n",
    "       'Music', 'Musical', 'Mystery', 'Romance', 'Sci-Fi', 'Short', 'Sport',\n",
    "       'Thriller', 'War', 'Western', 'greater_china_prod', 'ch_lang',\n",
    "        'ch_film']]"
   ]
  },
  {
   "cell_type": "code",
   "execution_count": 67,
   "metadata": {},
   "outputs": [],
   "source": [
    "with open('combined.pickle', 'wb') as to_write:\n",
    "    pickle.dump(combined, to_write)"
   ]
  },
  {
   "cell_type": "markdown",
   "metadata": {},
   "source": [
    "Please proceed to the Modeling and Analysis notebook."
   ]
  }
 ],
 "metadata": {
  "kernelspec": {
   "display_name": "Python 3",
   "language": "python",
   "name": "python3"
  },
  "language_info": {
   "codemirror_mode": {
    "name": "ipython",
    "version": 3
   },
   "file_extension": ".py",
   "mimetype": "text/x-python",
   "name": "python",
   "nbconvert_exporter": "python",
   "pygments_lexer": "ipython3",
   "version": "3.8.3"
  }
 },
 "nbformat": 4,
 "nbformat_minor": 4
}
